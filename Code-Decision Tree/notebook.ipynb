{
 "cells": [
  {
   "cell_type": "code",
   "execution_count": 71,
   "id": "39c425ef",
   "metadata": {},
   "outputs": [],
   "source": [
    "import pandas as pd\n",
    "import sklearn.model_selection\n",
    "from sklearn.impute import SimpleImputer\n",
    "from sklearn.tree import DecisionTreeClassifier\n",
    "import matplotlib.pyplot as plt\n",
    "\n",
    "data = pd.read_csv('diabetes.csv')\n",
    "\n",
    "# Separate independent and dependent vairable\n",
    "x = data.drop('Outcome',axis=1)\n",
    "y = data['Outcome']\n",
    "\n",
    "# split dataset\n",
    "X_train, X_test, y_train, y_test = sklearn.model_selection.train_test_split(x,y,random_state=0)\n"
   ]
  },
  {
   "cell_type": "markdown",
   "id": "5ffedc0c",
   "metadata": {},
   "source": [
    "# Impute missing data by mean"
   ]
  },
  {
   "cell_type": "code",
   "execution_count": 72,
   "id": "26acf578",
   "metadata": {},
   "outputs": [
    {
     "name": "stderr",
     "output_type": "stream",
     "text": [
      "/var/folders/1m/cryjf7b56hj14d537cgrgjhw0000gn/T/ipykernel_14774/3164201781.py:6: SettingWithCopyWarning: \n",
      "A value is trying to be set on a copy of a slice from a DataFrame.\n",
      "Try using .loc[row_indexer,col_indexer] = value instead\n",
      "\n",
      "See the caveats in the documentation: https://pandas.pydata.org/pandas-docs/stable/user_guide/indexing.html#returning-a-view-versus-a-copy\n",
      "  X_train['Glucose'] = mean_imp.fit_transform(X_train['Glucose'].values.reshape(-1,1))\n",
      "/var/folders/1m/cryjf7b56hj14d537cgrgjhw0000gn/T/ipykernel_14774/3164201781.py:7: SettingWithCopyWarning: \n",
      "A value is trying to be set on a copy of a slice from a DataFrame.\n",
      "Try using .loc[row_indexer,col_indexer] = value instead\n",
      "\n",
      "See the caveats in the documentation: https://pandas.pydata.org/pandas-docs/stable/user_guide/indexing.html#returning-a-view-versus-a-copy\n",
      "  X_train['BloodPressure'] = mean_imp.fit_transform(X_train['BloodPressure'].values.reshape(-1,1))\n",
      "/var/folders/1m/cryjf7b56hj14d537cgrgjhw0000gn/T/ipykernel_14774/3164201781.py:8: SettingWithCopyWarning: \n",
      "A value is trying to be set on a copy of a slice from a DataFrame.\n",
      "Try using .loc[row_indexer,col_indexer] = value instead\n",
      "\n",
      "See the caveats in the documentation: https://pandas.pydata.org/pandas-docs/stable/user_guide/indexing.html#returning-a-view-versus-a-copy\n",
      "  X_train['SkinThickness'] = mean_imp.fit_transform(X_train['SkinThickness'].values.reshape(-1,1))\n",
      "/var/folders/1m/cryjf7b56hj14d537cgrgjhw0000gn/T/ipykernel_14774/3164201781.py:9: SettingWithCopyWarning: \n",
      "A value is trying to be set on a copy of a slice from a DataFrame.\n",
      "Try using .loc[row_indexer,col_indexer] = value instead\n",
      "\n",
      "See the caveats in the documentation: https://pandas.pydata.org/pandas-docs/stable/user_guide/indexing.html#returning-a-view-versus-a-copy\n",
      "  X_train['Insulin'] = mean_imp.fit_transform(X_train['Insulin'].values.reshape(-1,1))\n",
      "/var/folders/1m/cryjf7b56hj14d537cgrgjhw0000gn/T/ipykernel_14774/3164201781.py:10: SettingWithCopyWarning: \n",
      "A value is trying to be set on a copy of a slice from a DataFrame.\n",
      "Try using .loc[row_indexer,col_indexer] = value instead\n",
      "\n",
      "See the caveats in the documentation: https://pandas.pydata.org/pandas-docs/stable/user_guide/indexing.html#returning-a-view-versus-a-copy\n",
      "  X_train['BMI'] = mean_imp.fit_transform(X_train['BMI'].values.reshape(-1,1))\n",
      "/var/folders/1m/cryjf7b56hj14d537cgrgjhw0000gn/T/ipykernel_14774/3164201781.py:14: SettingWithCopyWarning: \n",
      "A value is trying to be set on a copy of a slice from a DataFrame.\n",
      "Try using .loc[row_indexer,col_indexer] = value instead\n",
      "\n",
      "See the caveats in the documentation: https://pandas.pydata.org/pandas-docs/stable/user_guide/indexing.html#returning-a-view-versus-a-copy\n",
      "  X_test['Glucose'] = mean_imp.fit_transform(X_test['Glucose'].values.reshape(-1,1))\n",
      "/var/folders/1m/cryjf7b56hj14d537cgrgjhw0000gn/T/ipykernel_14774/3164201781.py:15: SettingWithCopyWarning: \n",
      "A value is trying to be set on a copy of a slice from a DataFrame.\n",
      "Try using .loc[row_indexer,col_indexer] = value instead\n",
      "\n",
      "See the caveats in the documentation: https://pandas.pydata.org/pandas-docs/stable/user_guide/indexing.html#returning-a-view-versus-a-copy\n",
      "  X_test['BloodPressure'] = mean_imp.fit_transform(X_test['BloodPressure'].values.reshape(-1,1))\n",
      "/var/folders/1m/cryjf7b56hj14d537cgrgjhw0000gn/T/ipykernel_14774/3164201781.py:16: SettingWithCopyWarning: \n",
      "A value is trying to be set on a copy of a slice from a DataFrame.\n",
      "Try using .loc[row_indexer,col_indexer] = value instead\n",
      "\n",
      "See the caveats in the documentation: https://pandas.pydata.org/pandas-docs/stable/user_guide/indexing.html#returning-a-view-versus-a-copy\n",
      "  X_test['SkinThickness'] = mean_imp.fit_transform(X_test['SkinThickness'].values.reshape(-1,1))\n",
      "/var/folders/1m/cryjf7b56hj14d537cgrgjhw0000gn/T/ipykernel_14774/3164201781.py:17: SettingWithCopyWarning: \n",
      "A value is trying to be set on a copy of a slice from a DataFrame.\n",
      "Try using .loc[row_indexer,col_indexer] = value instead\n",
      "\n",
      "See the caveats in the documentation: https://pandas.pydata.org/pandas-docs/stable/user_guide/indexing.html#returning-a-view-versus-a-copy\n",
      "  X_test['Insulin'] = mean_imp.fit_transform(X_test['Insulin'].values.reshape(-1,1))\n",
      "/var/folders/1m/cryjf7b56hj14d537cgrgjhw0000gn/T/ipykernel_14774/3164201781.py:18: SettingWithCopyWarning: \n",
      "A value is trying to be set on a copy of a slice from a DataFrame.\n",
      "Try using .loc[row_indexer,col_indexer] = value instead\n",
      "\n",
      "See the caveats in the documentation: https://pandas.pydata.org/pandas-docs/stable/user_guide/indexing.html#returning-a-view-versus-a-copy\n",
      "  X_test['BMI'] = mean_imp.fit_transform(X_test['BMI'].values.reshape(-1,1))\n"
     ]
    }
   ],
   "source": [
    "# impute missing data (mean)\n",
    "\n",
    "# train\n",
    "mean_imp = SimpleImputer(missing_values=0, strategy='mean')\n",
    "\n",
    "X_train['Glucose'] = mean_imp.fit_transform(X_train['Glucose'].values.reshape(-1,1))\n",
    "X_train['BloodPressure'] = mean_imp.fit_transform(X_train['BloodPressure'].values.reshape(-1,1))\n",
    "X_train['SkinThickness'] = mean_imp.fit_transform(X_train['SkinThickness'].values.reshape(-1,1))\n",
    "X_train['Insulin'] = mean_imp.fit_transform(X_train['Insulin'].values.reshape(-1,1))\n",
    "X_train['BMI'] = mean_imp.fit_transform(X_train['BMI'].values.reshape(-1,1))\n",
    "\n",
    "# validate\n",
    "\n",
    "X_test['Glucose'] = mean_imp.fit_transform(X_test['Glucose'].values.reshape(-1,1))\n",
    "X_test['BloodPressure'] = mean_imp.fit_transform(X_test['BloodPressure'].values.reshape(-1,1))\n",
    "X_test['SkinThickness'] = mean_imp.fit_transform(X_test['SkinThickness'].values.reshape(-1,1))\n",
    "X_test['Insulin'] = mean_imp.fit_transform(X_test['Insulin'].values.reshape(-1,1))\n",
    "X_test['BMI'] = mean_imp.fit_transform(X_test['BMI'].values.reshape(-1,1))"
   ]
  },
  {
   "cell_type": "markdown",
   "id": "4e7aad1f",
   "metadata": {},
   "source": [
    "# Decision Tree"
   ]
  },
  {
   "cell_type": "code",
   "execution_count": 178,
   "id": "aed56fbe",
   "metadata": {},
   "outputs": [
    {
     "name": "stdout",
     "output_type": "stream",
     "text": [
      "Decision Tree\n",
      "===============\n",
      "Confusion Matrix: \n",
      "[[117  13]\n",
      " [ 31  31]]\n",
      "Matthews correlation coeff: 0.4450105594639278\n",
      "Accuracy: 0.7708333333333334\n",
      "Precision: 0.9\n",
      "Misclassification: 0.22916666666666666\n",
      "Specificity: 0.7045454545454546\n",
      "Sensitivity: 0.7905405405405406\n"
     ]
    }
   ],
   "source": [
    "# Tree\n",
    "trees = DecisionTreeClassifier()\n",
    "#trees = DecisionTreeClassifier(max_depth=6,min_samples_split=15,min_samples_leaf=4) # improved\n",
    "trees.fit(X_train,y_train)\n",
    "y_predict = trees.predict(X_test)\n"
   ]
  },
  {
   "cell_type": "markdown",
   "id": "412eab72",
   "metadata": {},
   "source": [
    "# Logistic Regression"
   ]
  },
  {
   "cell_type": "code",
   "execution_count": 74,
   "id": "bc3d215a",
   "metadata": {},
   "outputs": [
    {
     "name": "stderr",
     "output_type": "stream",
     "text": [
      "/Users/negomiaoz/opt/anaconda3/lib/python3.9/site-packages/sklearn/linear_model/_logistic.py:763: ConvergenceWarning: lbfgs failed to converge (status=1):\n",
      "STOP: TOTAL NO. of ITERATIONS REACHED LIMIT.\n",
      "\n",
      "Increase the number of iterations (max_iter) or scale the data as shown in:\n",
      "    https://scikit-learn.org/stable/modules/preprocessing.html\n",
      "Please also refer to the documentation for alternative solver options:\n",
      "    https://scikit-learn.org/stable/modules/linear_model.html#logistic-regression\n",
      "  n_iter_i = _check_optimize_result(\n",
      "/Users/negomiaoz/opt/anaconda3/lib/python3.9/site-packages/sklearn/linear_model/_logistic.py:763: ConvergenceWarning: lbfgs failed to converge (status=1):\n",
      "STOP: TOTAL NO. of ITERATIONS REACHED LIMIT.\n",
      "\n",
      "Increase the number of iterations (max_iter) or scale the data as shown in:\n",
      "    https://scikit-learn.org/stable/modules/preprocessing.html\n",
      "Please also refer to the documentation for alternative solver options:\n",
      "    https://scikit-learn.org/stable/modules/linear_model.html#logistic-regression\n",
      "  n_iter_i = _check_optimize_result(\n",
      "/Users/negomiaoz/opt/anaconda3/lib/python3.9/site-packages/sklearn/linear_model/_logistic.py:763: ConvergenceWarning: lbfgs failed to converge (status=1):\n",
      "STOP: TOTAL NO. of ITERATIONS REACHED LIMIT.\n",
      "\n",
      "Increase the number of iterations (max_iter) or scale the data as shown in:\n",
      "    https://scikit-learn.org/stable/modules/preprocessing.html\n",
      "Please also refer to the documentation for alternative solver options:\n",
      "    https://scikit-learn.org/stable/modules/linear_model.html#logistic-regression\n",
      "  n_iter_i = _check_optimize_result(\n",
      "/Users/negomiaoz/opt/anaconda3/lib/python3.9/site-packages/sklearn/linear_model/_logistic.py:763: ConvergenceWarning: lbfgs failed to converge (status=1):\n",
      "STOP: TOTAL NO. of ITERATIONS REACHED LIMIT.\n",
      "\n",
      "Increase the number of iterations (max_iter) or scale the data as shown in:\n",
      "    https://scikit-learn.org/stable/modules/preprocessing.html\n",
      "Please also refer to the documentation for alternative solver options:\n",
      "    https://scikit-learn.org/stable/modules/linear_model.html#logistic-regression\n",
      "  n_iter_i = _check_optimize_result(\n",
      "/Users/negomiaoz/opt/anaconda3/lib/python3.9/site-packages/sklearn/linear_model/_logistic.py:763: ConvergenceWarning: lbfgs failed to converge (status=1):\n",
      "STOP: TOTAL NO. of ITERATIONS REACHED LIMIT.\n",
      "\n",
      "Increase the number of iterations (max_iter) or scale the data as shown in:\n",
      "    https://scikit-learn.org/stable/modules/preprocessing.html\n",
      "Please also refer to the documentation for alternative solver options:\n",
      "    https://scikit-learn.org/stable/modules/linear_model.html#logistic-regression\n",
      "  n_iter_i = _check_optimize_result(\n",
      "/Users/negomiaoz/opt/anaconda3/lib/python3.9/site-packages/sklearn/linear_model/_logistic.py:763: ConvergenceWarning: lbfgs failed to converge (status=1):\n",
      "STOP: TOTAL NO. of ITERATIONS REACHED LIMIT.\n",
      "\n",
      "Increase the number of iterations (max_iter) or scale the data as shown in:\n",
      "    https://scikit-learn.org/stable/modules/preprocessing.html\n",
      "Please also refer to the documentation for alternative solver options:\n",
      "    https://scikit-learn.org/stable/modules/linear_model.html#logistic-regression\n",
      "  n_iter_i = _check_optimize_result(\n",
      "/Users/negomiaoz/opt/anaconda3/lib/python3.9/site-packages/sklearn/linear_model/_logistic.py:763: ConvergenceWarning: lbfgs failed to converge (status=1):\n",
      "STOP: TOTAL NO. of ITERATIONS REACHED LIMIT.\n",
      "\n",
      "Increase the number of iterations (max_iter) or scale the data as shown in:\n",
      "    https://scikit-learn.org/stable/modules/preprocessing.html\n",
      "Please also refer to the documentation for alternative solver options:\n",
      "    https://scikit-learn.org/stable/modules/linear_model.html#logistic-regression\n",
      "  n_iter_i = _check_optimize_result(\n",
      "/Users/negomiaoz/opt/anaconda3/lib/python3.9/site-packages/sklearn/linear_model/_logistic.py:763: ConvergenceWarning: lbfgs failed to converge (status=1):\n",
      "STOP: TOTAL NO. of ITERATIONS REACHED LIMIT.\n",
      "\n",
      "Increase the number of iterations (max_iter) or scale the data as shown in:\n",
      "    https://scikit-learn.org/stable/modules/preprocessing.html\n",
      "Please also refer to the documentation for alternative solver options:\n",
      "    https://scikit-learn.org/stable/modules/linear_model.html#logistic-regression\n",
      "  n_iter_i = _check_optimize_result(\n",
      "/Users/negomiaoz/opt/anaconda3/lib/python3.9/site-packages/sklearn/linear_model/_logistic.py:763: ConvergenceWarning: lbfgs failed to converge (status=1):\n",
      "STOP: TOTAL NO. of ITERATIONS REACHED LIMIT.\n",
      "\n",
      "Increase the number of iterations (max_iter) or scale the data as shown in:\n",
      "    https://scikit-learn.org/stable/modules/preprocessing.html\n",
      "Please also refer to the documentation for alternative solver options:\n",
      "    https://scikit-learn.org/stable/modules/linear_model.html#logistic-regression\n",
      "  n_iter_i = _check_optimize_result(\n",
      "/Users/negomiaoz/opt/anaconda3/lib/python3.9/site-packages/sklearn/linear_model/_logistic.py:763: ConvergenceWarning: lbfgs failed to converge (status=1):\n",
      "STOP: TOTAL NO. of ITERATIONS REACHED LIMIT.\n",
      "\n",
      "Increase the number of iterations (max_iter) or scale the data as shown in:\n",
      "    https://scikit-learn.org/stable/modules/preprocessing.html\n",
      "Please also refer to the documentation for alternative solver options:\n",
      "    https://scikit-learn.org/stable/modules/linear_model.html#logistic-regression\n",
      "  n_iter_i = _check_optimize_result(\n"
     ]
    }
   ],
   "source": [
    "LogisticR = sklearn.linear_model.LogisticRegressionCV(cv = 5,random_state = 0)\n",
    "LogisticR.fit(X_train,y_train)\n",
    "y_predicted_LR = LogisticR.predict(X_test)"
   ]
  },
  {
   "cell_type": "markdown",
   "id": "181a730f",
   "metadata": {},
   "source": [
    "# Visualization"
   ]
  },
  {
   "cell_type": "code",
   "execution_count": null,
   "id": "adbe6d34",
   "metadata": {},
   "outputs": [],
   "source": [
    "# tree visualization\n",
    "from sklearn import tree\n",
    "fig = plt.figure(figsize=(100,100))\n",
    "tree.plot_tree(trees, filled=True)\n",
    "plt.savefig('tree.png')"
   ]
  },
  {
   "cell_type": "code",
   "execution_count": 180,
   "id": "e0b2f27f",
   "metadata": {},
   "outputs": [
    {
     "name": "stdout",
     "output_type": "stream",
     "text": [
      "Decision Tree\n",
      "===============\n",
      "Confusion Matrix: \n",
      "[[117  13]\n",
      " [ 31  31]]\n",
      "Matthews correlation coeff: 0.4450105594639278\n",
      "Accuracy: 0.7708333333333334\n",
      "Precision: 0.9\n",
      "Misclassification: 0.22916666666666666\n",
      "Specificity: 0.7045454545454546\n",
      "Sensitivity: 0.7905405405405406\n"
     ]
    }
   ],
   "source": [
    "# Decision Tree Analysis\n",
    "\n",
    "from sklearn.metrics import confusion_matrix, matthews_corrcoef\n",
    "c_m = confusion_matrix(y_test, y_predict)\n",
    "c_m_LR = confusion_matrix(y_test, y_predicted_LR)\n",
    "print('Decision Tree\\n===============')\n",
    "print(f'Confusion Matrix: \\n{c_m}')\n",
    "print(f'Matthews correlation coeff: {matthews_corrcoef(y_test, y_predict)}')\n",
    "\n",
    "TP = c_m[0,0]\n",
    "FP = c_m[0,1]\n",
    "FN = c_m[1,0]\n",
    "TN = c_m[1,1]\n",
    "print(f'Accuracy: {(TP + TN) / (TP + TN + FP + FN)}')\n",
    "print(f'Precision: {TP / (TP + FP)}')\n",
    "print(f'Misclassification: {(FP + FN) / (TP + TN + FP + FN)}')\n",
    "print(f'Specificity: {TN / (TN + FP)}')\n",
    "print(f'Sensitivity: {TP / (TP + FN)}')\n"
   ]
  },
  {
   "cell_type": "code",
   "execution_count": 108,
   "id": "8296b77a",
   "metadata": {},
   "outputs": [
    {
     "name": "stdout",
     "output_type": "stream",
     "text": [
      "\n",
      "Logistic Regression\n",
      "===============\n",
      "Confusion Matrix: \n",
      "[[117  13]\n",
      " [ 28  34]]\n",
      "Matthews correlation coeff: 0.4876269468427183\n",
      "Accuracy: 0.7864583333333334\n",
      "Precision: 0.9\n",
      "Misclassification: 0.21354166666666666\n",
      "Specificity: 0.723404255319149\n",
      "Sensitivity: 0.8068965517241379\n"
     ]
    }
   ],
   "source": [
    "# Logistic Regression analysis\n",
    "\n",
    "print('\\nLogistic Regression\\n===============')\n",
    "print(f'Confusion Matrix: \\n{c_m_LR}')\n",
    "print(f'Matthews correlation coeff: {matthews_corrcoef(y_test, y_predicted_LR)}')\n",
    "TP1 = c_m_LR[0,0]\n",
    "FP1 = c_m_LR[0,1]\n",
    "FN1 = c_m_LR[1,0]\n",
    "TN1 = c_m_LR[1,1]\n",
    "print(f'Accuracy: {(TP1 + TN1) / (TP1 + TN1 + FP1 + FN1)}')\n",
    "print(f'Precision: {TP1 / (TP1 + FP1)}')\n",
    "print(f'Misclassification: {(FP1 + FN1) / (TP1 + TN1 + FP1 + FN1)}')\n",
    "print(f'Specificity: {TN1 / (TN1 + FP1)}')\n",
    "print(f'Sensitivity: {TP1 / (TP1 + FN1)}')\n"
   ]
  },
  {
   "cell_type": "markdown",
   "id": "f2360a53",
   "metadata": {},
   "source": [
    "# ROC Curve"
   ]
  },
  {
   "cell_type": "code",
   "execution_count": 179,
   "id": "79b122b9",
   "metadata": {},
   "outputs": [
    {
     "data": {
      "image/png": "[encoded data removed]",
      "text/plain": [
       "<Figure size 1080x288 with 2 Axes>"
      ]
     },
     "metadata": {
      "needs_background": "light"
     },
     "output_type": "display_data"
    }
   ],
   "source": [
    "from sklearn import metrics\n",
    "\n",
    "fig, ax = plt.subplots(ncols = 2, figsize=(15,4))\n",
    "\n",
    "# Decision Tree\n",
    "dt_prob = trees.predict_proba(X_test)[:,1]\n",
    "#print(f'DT ROC Score: {metrics.roc_auc_score(y_test,dt_prob)}')\n",
    "fpr, tpr, threshold = metrics.roc_curve(y_test, dt_prob)\n",
    "ax[0].plot(fpr,tpr)\n",
    "ax[0].set_xlim([0,1])\n",
    "ax[0].set_ylim([0,1])\n",
    "ax[0].set_xlabel('False Positive Rate')\n",
    "ax[0].set_ylabel('True Positive Rate')\n",
    "ax[0].set_title('Decision Tree ROC Curve')\n",
    "ax[0].text(0.3,0.1,f'ROC Score: {metrics.roc_auc_score(y_test,dt_prob)}') \n",
    "\n",
    "# Logistic Regression\n",
    "lr_prob = LogisticR.predict_proba(X_test)[:,1]\n",
    "fpr, tpr, threshold = metrics.roc_curve(y_test, lr_prob)\n",
    "ax[1].plot(fpr,tpr)\n",
    "ax[1].set_xlim([0,1])\n",
    "ax[1].set_ylim([0,1])\n",
    "ax[1].set_xlabel('False Positive Rate')\n",
    "ax[1].set_ylabel('True Positive Rate')\n",
    "ax[1].set_title('Logistic Regression ROC Curve')\n",
    "ax[1].text(0.3,0.1,f'ROC Score: {metrics.roc_auc_score(y_test,lr_prob)}') \n",
    "\n",
    "plt.show()\n",
    "\n",
    "\n"
   ]
  },
  {
   "cell_type": "code",
   "execution_count": null,
   "id": "3a987a28",
   "metadata": {},
   "outputs": [],
   "source": []
  },
  {
   "cell_type": "code",
   "execution_count": null,
   "id": "58a85a93",
   "metadata": {},
   "outputs": [],
   "source": []
  }
 ],
 "metadata": {
  "kernelspec": {
   "display_name": "Python 3 (ipykernel)",
   "language": "python",
   "name": "python3"
  },
  "language_info": {
   "codemirror_mode": {
    "name": "ipython",
    "version": 3
   },
   "file_extension": ".py",
   "mimetype": "text/x-python",
   "name": "python",
   "nbconvert_exporter": "python",
   "pygments_lexer": "ipython3",
   "version": "3.9.7"
  }
 },
 "nbformat": 4,
 "nbformat_minor": 5
}
